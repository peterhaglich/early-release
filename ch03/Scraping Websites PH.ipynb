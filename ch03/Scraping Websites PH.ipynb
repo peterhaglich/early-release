{
 "cells": [
  {
   "cell_type": "markdown",
   "metadata": {},
   "source": [
    "## Blueprint: download and interprete robots.txt"
   ]
  },
  {
   "cell_type": "code",
   "execution_count": 1,
   "metadata": {},
   "outputs": [
    {
     "data": {
      "text/plain": [
       "True"
      ]
     },
     "execution_count": 1,
     "metadata": {},
     "output_type": "execute_result"
    }
   ],
   "source": [
    "import urllib.robotparser\n",
    "rp = urllib.robotparser.RobotFileParser()\n",
    "rp.set_url(\"https://www.reuters.com/robots.txt\")\n",
    "rp.read()\n",
    "rp.can_fetch(\"*\", \"https://www.reuters.com/sitemap.xml\")"
   ]
  },
  {
   "cell_type": "markdown",
   "metadata": {},
   "source": [
    "## Blueprint: Finding URLs from sitemap.xml"
   ]
  },
  {
   "cell_type": "code",
   "execution_count": 8,
   "metadata": {},
   "outputs": [
    {
     "name": "stdout",
     "output_type": "stream",
     "text": [
      "https://www.reuters.com/article/us-usa-hongkong-restrictions/us-curbs-visas-for-chinese-officials-over-hong-kong-autonomy-idUSKBN23X2DN\n",
      "https://www.reuters.com/article/us-global-oil/oil-dips-on-rise-in-us-coronavirus-cases-set-for-weekly-fall-idUSKBN23X01R\n",
      "https://www.reuters.com/article/usa-lgbt-entertainment/refile-new-yorks-stonewall-inn-seeks-help-to-fight-closure-after-lockdown-idUSL8N2E33Z1\n"
     ]
    }
   ],
   "source": [
    "import xmltodict\n",
    "import requests\n",
    "\n",
    "sitemap = xmltodict.parse(requests.get('https://www.reuters.com/sitemap_news_index1.xml')\\\n",
    "                          .text)\n",
    "urls = [url[\"loc\"] for url in sitemap[\"urlset\"][\"url\"]]\n",
    "print(\"\\n\".join(urls[:3]))"
   ]
  },
  {
   "cell_type": "markdown",
   "metadata": {},
   "source": [
    "## Blueprint: Finding URLs from RSS"
   ]
  },
  {
   "cell_type": "code",
   "execution_count": 33,
   "metadata": {},
   "outputs": [],
   "source": [
    "import feedparser\n",
    "feed = feedparser.parse(\"http://rss.cnn.com/rss/cnn_topstories.rss\")"
   ]
  },
  {
   "cell_type": "code",
   "execution_count": 38,
   "metadata": {},
   "outputs": [
    {
     "data": {
      "text/plain": [
       "[(\"The vice president's defense shows the wide gap between health officials' guidelines and what Trump himself is actually doing\",\n",
       "  'http://rss.cnn.com/~r/rss/cnn_topstories/~3/F27151RPv4c/index.html'),\n",
       " (\"Pence trumpets 'encouraging news' as some states see surge in cases\",\n",
       "  'http://rss.cnn.com/~r/rss/cnn_topstories/~3/8ndgU1YUQio/h_5218fd02b7ef18940277beb6a18bde02'),\n",
       " ('Don Lemon: This is what American carnage looks like',\n",
       "  'http://rss.cnn.com/~r/rss/cnn_topstories/~3/bpeaGbaW2Ks/dons-take-trump-coronavirus-testing-lemon-ctn-vpx.cnn'),\n",
       " ('Pressure mounts on DeSantis as Covid-19 cases spike in Florida',\n",
       "  'http://rss.cnn.com/~r/rss/cnn_topstories/~3/F46pkWHZFbM/index.html'),\n",
       " (\"Dr. Sanjay Gupta: I can't believe we're in the position we're in\",\n",
       "  'http://rss.cnn.com/~r/rss/cnn_topstories/~3/I0-7CB_tQDI/coronavirus-frustration-gupta-newday-vpx.cnn'),\n",
       " (\"The region that's leading the country in mask-wearing\",\n",
       "  'http://rss.cnn.com/~r/rss/cnn_topstories/~3/mLph_FQWJfs/index.html'),\n",
       " ('House Democrats pass DC statehood bill',\n",
       "  'http://rss.cnn.com/~r/rss/cnn_topstories/~3/f-73ePGOqYo/index.html'),\n",
       " ('Opinion: Covid-19 unmasks what cancer patients have long known',\n",
       "  'http://rss.cnn.com/~r/rss/cnn_topstories/~3/wjuHLLNe_pc/index.html'),\n",
       " ('Violent crime on the rise amid calls to defund police',\n",
       "  'http://rss.cnn.com/~r/rss/cnn_topstories/~3/4Tr0klN0NIQ/violent-crime-rising-gingras-nr-vpx.cnn'),\n",
       " ('Chipotle suspends manager after football player said he was racially profiled',\n",
       "  'http://rss.cnn.com/~r/rss/cnn_topstories/~3/3HGtbqn0pmY/index.html'),\n",
       " ('In Texas, questions grow about a lesser-known US Attorney ousted by Barr',\n",
       "  'http://rss.cnn.com/~r/rss/cnn_topstories/~3/q8eCZtlMkBU/index.html'),\n",
       " ('Angry residents erupt at meeting over new mask rule',\n",
       "  'http://rss.cnn.com/~r/rss/cnn_topstories/~3/eCCeFYBfNbI/mask-mandate-florida-anger-erupts-coronavirus-vpx.cnn'),\n",
       " ('A face mask resistance group is creating fake exemption cards',\n",
       "  'http://rss.cnn.com/~r/rss/cnn_topstories/~3/Xh37hTAuKnE/index.html'),\n",
       " ('Facebook and Twitter stock dives as advertiser pulls out',\n",
       "  'http://rss.cnn.com/~r/rss/cnn_topstories/~3/oV8ikCdjp3A/index.html'),\n",
       " (\"Trump can't divert military funds for border wall, federal appeals court says\",\n",
       "  'http://rss.cnn.com/~r/rss/cnn_topstories/~3/gntej6gpQbs/index.html'),\n",
       " ('Biden says he would make face masks mandatory',\n",
       "  'http://rss.cnn.com/~r/rss/cnn_topstories/~3/Sz4MxSgXdhU/index.html'),\n",
       " ('Trump calls out reporter on face mask',\n",
       "  'http://rss.cnn.com/~r/rss/cnn_topstories/~3/VzaRD1eE-H0/donald-trump-white-house-coronavirus-response-acosta-dnt-tsr-vpx.cnn'),\n",
       " ('Texas and Florida shift from reopening to issuing more restrictions',\n",
       "  'http://rss.cnn.com/~r/rss/cnn_topstories/~3/UByRAqrsB-E/index.html'),\n",
       " (\"People close to Biden's VP search say these are four of the leading prospects\",\n",
       "  'http://rss.cnn.com/~r/rss/cnn_topstories/~3/XOyphfKuV2E/index.html'),\n",
       " (\"Rep. Kevin McCarthy is outraged by CNN reporter's Covid-19 question\",\n",
       "  'http://rss.cnn.com/~r/rss/cnn_topstories/~3/ikEVnAmIk80/kevin-mccarthy-trump-comment-coronavirus-raju-vpx.cnn'),\n",
       " ('Minneapolis City Council advances plan to dismantle police department',\n",
       "  'http://rss.cnn.com/~r/rss/cnn_topstories/~3/rdAwRi3IFzM/index.html'),\n",
       " ('Paralympian Angela Madsen dies trying to row from California to Hawaii',\n",
       "  'http://rss.cnn.com/~r/rss/cnn_topstories/~3/WJTRiBiD1Ec/index.html'),\n",
       " (\"Sen. Cotton says Wyoming's 'well-rounded working-class' population is more worthy of statehood than DC\",\n",
       "  'http://rss.cnn.com/~r/rss/cnn_topstories/~3/khwl3WSS9oA/index.html'),\n",
       " ('Justin Bieber files $20 million defamation lawsuit against women who accused him of assault',\n",
       "  'http://rss.cnn.com/~r/rss/cnn_topstories/~3/Rsjj_b4f2p8/index.html'),\n",
       " ('Microsoft is closing all of its stores',\n",
       "  'http://rss.cnn.com/~r/rss/cnn_topstories/~3/foszqtck42Q/index.html'),\n",
       " ('Carnival cruise ship earmarked for demolition',\n",
       "  'http://rss.cnn.com/~r/rss/cnn_topstories/~3/kRpS324dlR4/index.html'),\n",
       " ('Teen TikTok star has died, her manager confirms',\n",
       "  'http://rss.cnn.com/~r/rss/cnn_topstories/~3/zEXEdTDQnRY/index.html'),\n",
       " (\"Ex-F1 leader says 'in lots of cases Black people are more racist than White people'\",\n",
       "  'http://rss.cnn.com/~r/rss/cnn_topstories/~3/12Tc9Cg88R0/index.html'),\n",
       " (\"'I should have killed you': Convicted killer lashes out at witness in court\",\n",
       "  'http://rss.cnn.com/~r/rss/cnn_topstories/~3/w52NctJzqp0/portland-train-stabbing-killer-court-outburst-mxp-vpx.hln'),\n",
       " ('The Dixie Chicks have changed their name',\n",
       "  'http://rss.cnn.com/~r/rss/cnn_topstories/~3/bU2cvP4WIoA/dixie-chicks-change-name-the-chicks-orig-llr-kj.cnn'),\n",
       " (\"Brits crowd the beach, triggering a 'major incident' declaration\",\n",
       "  'http://rss.cnn.com/~r/rss/cnn_topstories/~3/GyW2n9uoYRc/index.html'),\n",
       " ('Her life was turned upside down by coronavirus. Then the signs of anxiety and depression kicked in',\n",
       "  'http://rss.cnn.com/~r/rss/cnn_topstories/~3/kx0ig0mNmto/index.html'),\n",
       " ('Opinion: Covid-19 disrupted my wedding plans. It may have been an unintended gift',\n",
       "  'http://rss.cnn.com/~r/rss/cnn_topstories/~3/V3VW-YgYNCw/index.html'),\n",
       " ('Spain kickstarts summer holidays with pilot tourism program',\n",
       "  'http://rss.cnn.com/~r/rss/cnn_topstories/~3/S2LEhmA7XR0/spain-mallorca-islands-coronavirus-reopening-tourism-shubert-pkg-intl-hnk-vpx.cnn'),\n",
       " ('Everything you need to go on the safest road trip possible',\n",
       "  'http://rss.cnn.com/~r/rss/cnn_topstories/~3/IE1zyyuW3aQ/index.html'),\n",
       " (\"Gap will sell Kanye West's Yeezy line. The news sent its stock soaring\",\n",
       "  'http://rss.cnn.com/~r/rss/cnn_topstories/~3/zrY2H3Tffws/index.html'),\n",
       " (\"Dollar General is cheap, popular and spreading across America. It's also a robbery magnet, police say\",\n",
       "  'http://rss.cnn.com/~r/rss/cnn_topstories/~3/L1mVpzrBxqg/index.html'),\n",
       " ('Costco, Target and other stores relax coronavirus safety policies',\n",
       "  'http://rss.cnn.com/~r/rss/cnn_topstories/~3/YrGaNl5UIgw/index.html'),\n",
       " ('Sherlock Holmes is too nice in upcoming Netflix adaptation, lawsuit argues',\n",
       "  'http://rss.cnn.com/~r/rss/cnn_topstories/~3/3s3G0KrrtxM/index.html'),\n",
       " ('YouTube star quits after blackface backlash',\n",
       "  'http://rss.cnn.com/~r/rss/cnn_topstories/~3/6WlprLSf3XM/index.html'),\n",
       " ('Broadway actor fighting coronavirus suffers setback, wife says',\n",
       "  'http://rss.cnn.com/~r/rss/cnn_topstories/~3/WWpXrO54JRY/index.html'),\n",
       " ('How to protect yourself on a road trip during the pandemic',\n",
       "  'http://rss.cnn.com/~r/rss/cnn_topstories/~3/G8FhnpuxQC8/road-trip-safety-coronavirus-gupta-cnn-town-hall-sot-vpx.cnn'),\n",
       " (\"Ford's powerful new F-150 offers fully reclining seats, a workbench and a bottle opener\",\n",
       "  'http://rss.cnn.com/~r/rss/cnn_topstories/~3/N2ykOuwSTeo/index.html'),\n",
       " (\"Americans' paychecks are getting smaller, but their spending is soaring\",\n",
       "  'http://rss.cnn.com/~r/rss/cnn_topstories/~3/7Gd4aUfU2dc/index.html'),\n",
       " ('These people bought homes without ever stepping inside',\n",
       "  'http://rss.cnn.com/~r/rss/cnn_topstories/~3/IN3hXVWpmBw/index.html'),\n",
       " ('This Portuguese diplomat saved thousands and lost everything but his good name',\n",
       "  'http://rss.cnn.com/~r/rss/cnn_topstories/~3/HkTDyk8hPU4/index.html'),\n",
       " ('Trump is desperate -- and dangerous',\n",
       "  'http://rss.cnn.com/~r/rss/cnn_topstories/~3/s0ulrfyEqyc/index.html'),\n",
       " ('My terrific job offer in SF got snatched away',\n",
       "  'http://rss.cnn.com/~r/rss/cnn_topstories/~3/ZvGtpJR3b5Y/index.html'),\n",
       " ('Ignoring Covid-19 surge sends a clear message',\n",
       "  'http://rss.cnn.com/~r/rss/cnn_topstories/~3/9PR1Ypx1cak/index.html'),\n",
       " ('A generation hit by three soul-crushing crises',\n",
       "  'http://rss.cnn.com/~r/rss/cnn_topstories/~3/oZOUK49UADE/index.html'),\n",
       " ('Parkland dad: This would be a big mistake',\n",
       "  'http://rss.cnn.com/~r/rss/cnn_topstories/~3/MFyZ40yeWKs/index.html'),\n",
       " (\"Djokovic's folly is a lesson to the world\",\n",
       "  'http://rss.cnn.com/~r/rss/cnn_topstories/~3/I1yPq2QjFn0/index.html'),\n",
       " ('Refi rates at 2.53% APR (15 yr). Do you qualify?',\n",
       "  'http://rss.cnn.com/~r/rss/cnn_topstories/~3/8lK1MM87-O4/'),\n",
       " ('Pay 0% interest until 2021 with a better card',\n",
       "  'http://rss.cnn.com/~r/rss/cnn_topstories/~3/-MpbfJ5Z2og/pay-0-interest-until-2021'),\n",
       " ('This may be the big winner of the market crash',\n",
       "  'http://rss.cnn.com/~r/rss/cnn_topstories/~3/KwE80_jkKo8/a-sa-dd-3'),\n",
       " ('Satellite images show buildup at site of deadly India-China border clash',\n",
       "  'http://rss.cnn.com/~r/rss/cnn_topstories/~3/ZsuLudaFI-U/index.html'),\n",
       " ('Report: Forced disappearances are increasing in Venezuela',\n",
       "  'http://rss.cnn.com/~r/rss/cnn_topstories/~3/rR4uTVMhoGU/index.html'),\n",
       " ('Teen who threw a 6-year-old boy from London museum jailed for at least 15 years',\n",
       "  'http://rss.cnn.com/~r/rss/cnn_topstories/~3/hCY-GB1Fse4/index.html'),\n",
       " ('Former UK PM: We need new organization for pandemic readiness',\n",
       "  'http://rss.cnn.com/~r/rss/cnn_topstories/~3/6DqppIw6gUQ/david-cameron-uk-coronavirus-covid-19-pandemic-who-new-organization-the-times-intl-ldn-vpx.cnn'),\n",
       " ('Bipolar man with a sword dies after being tased by NYPD',\n",
       "  'http://rss.cnn.com/~r/rss/cnn_topstories/~3/osWapEq22kU/index.html'),\n",
       " ('NYPD arrests officer seen putting man in chokehold over the weekend',\n",
       "  'http://rss.cnn.com/~r/rss/cnn_topstories/~3/HmsUcDbWmkM/index.html'),\n",
       " ('House Armed Services chairman proposes $1 billion Pentagon pandemic preparedness fund',\n",
       "  'http://rss.cnn.com/~r/rss/cnn_topstories/~3/avDvVNKClDo/index.html'),\n",
       " (\"Walmart gets backlash over 'All Lives Matter' and 'Irish Lives Matter' T-shirts\",\n",
       "  'http://rss.cnn.com/~r/rss/cnn_topstories/~3/WN8JSvHGDx4/index.html'),\n",
       " (\"Teen dies after he's restrained at facility, suit says\",\n",
       "  'http://rss.cnn.com/~r/rss/cnn_topstories/~3/npF-9fXM_b0/index.html'),\n",
       " (\"Artist says 'white institutional fragility' has to end\",\n",
       "  'http://rss.cnn.com/~r/rss/cnn_topstories/~3/6QKsxBA-VUk/index.html'),\n",
       " ('A wedding photographer like no other',\n",
       "  'http://rss.cnn.com/~r/rss/cnn_topstories/~3/_0bbM3vX1qQ/index.html'),\n",
       " ('Supermodel Joan Smalls pledges half her wages to Black Lives Matter',\n",
       "  'http://rss.cnn.com/~r/rss/cnn_topstories/~3/-mz1ON3IDDI/index.html'),\n",
       " (\"The fashion industry says it stands against racism. Critics aren't buying it\",\n",
       "  'http://rss.cnn.com/~r/rss/cnn_topstories/~3/W87bOfGxN9w/index.html'),\n",
       " ('How lavender became a symbol of LGBTQ resistance',\n",
       "  'http://rss.cnn.com/~r/rss/cnn_topstories/~3/iZ6heqZx8Q8/index.html')]"
      ]
     },
     "execution_count": 38,
     "metadata": {},
     "output_type": "execute_result"
    }
   ],
   "source": [
    "[(e.title, e.link) for e in feed.entries]"
   ]
  },
  {
   "cell_type": "markdown",
   "metadata": {},
   "source": [
    "## Example: Downloading HTML with Python"
   ]
  },
  {
   "cell_type": "code",
   "execution_count": 39,
   "metadata": {},
   "outputs": [
    {
     "name": "stdout",
     "output_type": "stream",
     "text": [
      "CPU times: user 47.8 ms, sys: 10.6 ms, total: 58.4 ms\n",
      "Wall time: 2.26 s\n"
     ]
    }
   ],
   "source": [
    "%%time\n",
    "s = requests.Session()\n",
    "\n",
    "for url in urls[0:10]:\n",
    "    file = url.split(\"/\")[-1]\n",
    "    \n",
    "    r = s.get(url)\n",
    "    with open(file, \"w+b\") as f:\n",
    "        f.write(r.text.encode(\"utf-8\"))"
   ]
  },
  {
   "cell_type": "markdown",
   "metadata": {},
   "source": [
    "## Blueprint: Downloading HTML pages with wget"
   ]
  },
  {
   "cell_type": "code",
   "execution_count": 40,
   "metadata": {},
   "outputs": [],
   "source": [
    "with open(\"urls.txt\", \"w+b\") as f:\n",
    "    f.write(\"\\n\".join(urls).encode(\"utf-8\"))"
   ]
  },
  {
   "cell_type": "markdown",
   "metadata": {},
   "source": [
    "## Blueprint: Extraction with Regex"
   ]
  },
  {
   "cell_type": "code",
   "execution_count": 43,
   "metadata": {},
   "outputs": [
    {
     "name": "stdout",
     "output_type": "stream",
     "text": [
      "\n",
      "                Banned in Boston: Without vaping, medical marijuana patients must adapt - Reuters\n"
     ]
    }
   ],
   "source": [
    "url = 'https://www.reuters.com/article/us-health-vaping-marijuana-idUSKBN1WG4KT'\n",
    "\n",
    "# use the part after the last / as filename\n",
    "file = url.split(\"/\")[-1]\n",
    "import re\n",
    "\n",
    "with open(file, \"r\") as f:\n",
    "    html = f.read()\n",
    "    g = re.search(r'<title>(.*)</title>', html, re.MULTILINE|re.DOTALL)\n",
    "    if g:\n",
    "        print(g.groups()[0])"
   ]
  },
  {
   "cell_type": "markdown",
   "metadata": {},
   "source": [
    "## Blueprint: Extracting the Title/Headline"
   ]
  },
  {
   "cell_type": "code",
   "execution_count": 44,
   "metadata": {},
   "outputs": [
    {
     "data": {
      "text/plain": [
       "[<h1 class=\"ArticleHeader_headline\">Banned in Boston: Without vaping, medical marijuana patients must adapt</h1>]"
      ]
     },
     "execution_count": 44,
     "metadata": {},
     "output_type": "execute_result"
    }
   ],
   "source": [
    "from bs4 import BeautifulSoup\n",
    "soup = BeautifulSoup(html, \"html.parser\")\n",
    "soup.select(\"h1.ArticleHeader_headline\")"
   ]
  },
  {
   "cell_type": "code",
   "execution_count": 45,
   "metadata": {},
   "outputs": [
    {
     "data": {
      "text/plain": [
       "<h1 class=\"ArticleHeader_headline\">Banned in Boston: Without vaping, medical marijuana patients must adapt</h1>"
      ]
     },
     "execution_count": 45,
     "metadata": {},
     "output_type": "execute_result"
    }
   ],
   "source": [
    "soup.h1"
   ]
  },
  {
   "cell_type": "code",
   "execution_count": 46,
   "metadata": {},
   "outputs": [
    {
     "data": {
      "text/plain": [
       "'Banned in Boston: Without vaping, medical marijuana patients must adapt'"
      ]
     },
     "execution_count": 46,
     "metadata": {},
     "output_type": "execute_result"
    }
   ],
   "source": [
    "soup.h1.text"
   ]
  },
  {
   "cell_type": "code",
   "execution_count": 47,
   "metadata": {},
   "outputs": [
    {
     "data": {
      "text/plain": [
       "'\\n                Banned in Boston: Without vaping, medical marijuana patients must adapt - Reuters'"
      ]
     },
     "execution_count": 47,
     "metadata": {},
     "output_type": "execute_result"
    }
   ],
   "source": [
    "soup.title.text"
   ]
  },
  {
   "cell_type": "markdown",
   "metadata": {},
   "source": [
    "## Blueprint: Extracting the Article Text"
   ]
  },
  {
   "cell_type": "code",
   "execution_count": 48,
   "metadata": {},
   "outputs": [
    {
     "data": {
      "text/plain": [
       "'BOSTON (Reuters) - In the first few days of the four-month ban on all vaping products in Massachusetts, Laura Lee Medeiros, a medical marijuana patient, began to worry.\\xa0 FILE PHOTO: An employee puts down an eighth of an ounce marijuana after letting a customer smell it outside the Magnolia cannabis lounge in Oakland, California, U.S. April 20, 2018. REUTERS/Elijah NouvelageThe 32-year-old massage therapist has a diagnosis of post-traumatic stress disorder (PTSD) from childhood trauma. To temper her unpredictable panic attacks, she relied on a vape pen and cartridges filled with the marijuana derivatives THC and CBD from state dispensaries. There are other ways to get the desired effect from  marijuana, and patients have filled dispensaries across the state in recent days to ask about edible or smokeable forms. But Medeiros has come to depend on her battery-powered pen, and wondered how she would cope without her usual supply of cartridges.  “In the midst of something where I’m on the floor, on the verge of passing out, my pen has been very helpful for me to grab,” she said. She carries her vape pen in her purse in case of an emergency, but has only one cartridge left. Massachusetts imposed its ban on all vaping products, including both nicotine- and cannabis-based products, in response to mounting concern about the potential serious health risks. Governor Charlie Baker, a Republican, said the ban would last at least four months while new legislation and regulation is explored.  More than 800 cases of a vaping-related lung disease and 12 deaths across 10 U.S. states have so far been reported by the U.S. Centers for Disease Control and Prevention. Those numbers are expected to climb.  More than three quarters of those with the respiratory illness reported vaping THC, the main psychoactive ingredient of marijuana. Many of them used small e-cigarette cartridges, or “carts,” bought on the black market, where the risk of adulterated products is high. Marijuana remains illegal under federal law, but a growing number of states allow it for medical or recreational use. Massachusetts is one of 10 U.S. states that allows both uses, along with the District of Columbia. Some marijuana users had long eschewed vaping even before the ban, often on the advice of doctors who saw the cocktail of compounds being inhaled into lungs as risky. “I have advised against the vape carts for my patients for a long time exactly out of suspicion of basically what just happened,” said Dr. Ryan Zaklin, a doctor in Salem, Massachusetts. “Who the hell knows what they’re putting in them?” Some patients like vaping because it is more discreet than traditional burning of marijuana “flower.” The devices are small, produce a relatively odorless “vapor” and is fast-acting: a handheld device rapidly heats liquid compounds into an aerosol that can be inhaled into the lungs.  Many of those patients are now asking their doctors or dispensaries about edible forms of marijuana, liquid tinctures that can be dropped under the tongue or old-fashioned flower buds and pre-rolled joints for smoking.  For Medeiros, who lives in the small coastal city of Peabody, other methods are a poor substitute. She found that edibles take time to take effect, typically about an hour. Tinctures seemed to her similarly slow-acting. And rolling a joint while her vision is closing in and she is hyperventilating from a panic attack is nearly impossible, she said. UNEXPECTED BLESSING Medeiros wishes medical marijuana patients had been given time to stock up on the products they use before the ban went into immediate effect.  Pressed on such concerns, the governor has not been swayed to change his decision over what he said was a public health emergency. “There are many alternative uses available to people who currently have prescriptions for medical marijuana and they should pursue those,” Baker told reporters last week, according to local media. But some public health experts have warned the ban may drive more people toward riskier black-market, totally unregulated vape products.      At the New England Treatment Access (NETA) dispensary in Brookline, near Boston, which has become one of the biggest suppliers of medical marijuana since the drug became legalized in the state in 2012, several patients said they view the ban as an unexpected blessing. Denise Sullivan, 62, uses medical marijuana to treat symptoms of her leukemia. She had vaped for more than a year, but stopped after she heard about the ban. During the period she vaped, she contracted pneumonia five times, she said, and now believes that might have been vape related.\\xa0 “I can tell when I vape I am more congested not in my lungs but in my sinuses,” she said. She plans to use edibles, which she said kick in with enough time to treat her pain. Slideshow (2 Images)Kate LeDoux, 49, had a similar experience. She is a runner and used medical marijuana to help recovery from recent foot surgery.  LeDoux stopped vaping a few weeks ago after seeing the news about the lung disease, turning instead to edibles and smoking. Almost immediately, her “weird cough” cleared up and her running times improved, she said. “Now I know it was 100 percent the vaping.” (This story has been refiled to to correct date). Reporting Jacqueline Tempera in Brookline and Boston, Massachusetts, and Jonathan Allen in New York; Editing by Frank McGurty and Bill BerkrotOur Standards:The Thomson Reuters Trust Principles.'"
      ]
     },
     "execution_count": 48,
     "metadata": {},
     "output_type": "execute_result"
    }
   ],
   "source": [
    "soup.select_one(\"div.StandardArticleBody_body\").text"
   ]
  },
  {
   "cell_type": "markdown",
   "metadata": {},
   "source": [
    "## Blueprint: Extracting Image Captions"
   ]
  },
  {
   "cell_type": "code",
   "execution_count": 49,
   "metadata": {},
   "outputs": [
    {
     "data": {
      "text/plain": [
       "[<img aria-label=\"FILE PHOTO: An employee puts down an eighth of an ounce marijuana after letting a customer smell it outside the Magnolia cannabis lounge in Oakland, California, U.S. April 20, 2018. REUTERS/Elijah Nouvelage\" src=\"//s3.reutersmedia.net/resources/r/?m=02&amp;d=20191001&amp;t=2&amp;i=1435991144&amp;r=LYNXMPEF9039L&amp;w=20\"/>,\n",
       " <img src=\"//s3.reutersmedia.net/resources/r/?m=02&amp;d=20191001&amp;t=2&amp;i=1435991145&amp;r=LYNXMPEF9039M\"/>]"
      ]
     },
     "execution_count": 49,
     "metadata": {},
     "output_type": "execute_result"
    }
   ],
   "source": [
    "soup.select(\"div.StandardArticleBody_body figure img\")"
   ]
  },
  {
   "cell_type": "code",
   "execution_count": 50,
   "metadata": {},
   "outputs": [
    {
     "data": {
      "text/plain": [
       "[<figcaption><div class=\"Image_caption\"><span>FILE PHOTO: An employee puts down an eighth of an ounce marijuana after letting a customer smell it outside the Magnolia cannabis lounge in Oakland, California, U.S. April 20, 2018. REUTERS/Elijah Nouvelage</span></div></figcaption>,\n",
       " <figcaption class=\"Slideshow_caption\">Slideshow<span class=\"Slideshow_count\"> (2 Images)</span></figcaption>]"
      ]
     },
     "execution_count": 50,
     "metadata": {},
     "output_type": "execute_result"
    }
   ],
   "source": [
    "soup.select(\"div.StandardArticleBody_body figcaption\")"
   ]
  },
  {
   "cell_type": "markdown",
   "metadata": {},
   "source": [
    "## Blueprint: Extracting the URL"
   ]
  },
  {
   "cell_type": "code",
   "execution_count": 51,
   "metadata": {},
   "outputs": [
    {
     "data": {
      "text/plain": [
       "'https://www.reuters.com/article/us-health-vaping-marijuana-idUSKBN1WG4KT'"
      ]
     },
     "execution_count": 51,
     "metadata": {},
     "output_type": "execute_result"
    }
   ],
   "source": [
    "soup.find(\"link\", {\"rel\": \"canonical\"})[\"href\"]"
   ]
  },
  {
   "cell_type": "markdown",
   "metadata": {},
   "source": [
    "## Blueprint: Extracting List Information (Authors)"
   ]
  },
  {
   "cell_type": "code",
   "execution_count": 52,
   "metadata": {},
   "outputs": [
    {
     "data": {
      "text/plain": [
       "'Jacqueline Tempera'"
      ]
     },
     "execution_count": 52,
     "metadata": {},
     "output_type": "execute_result"
    }
   ],
   "source": [
    "soup.find(\"meta\", {\"name\": \"Author\"})[\"content\"]"
   ]
  },
  {
   "cell_type": "code",
   "execution_count": 53,
   "metadata": {},
   "outputs": [
    {
     "data": {
      "text/plain": [
       "[<span><a href=\"/journalists/jacqueline-tempera\" target=\"_blank\">Jacqueline Tempera</a>, </span>,\n",
       " <span><a href=\"/journalists/jonathan-allen\" target=\"_blank\">Jonathan Allen</a></span>]"
      ]
     },
     "execution_count": 53,
     "metadata": {},
     "output_type": "execute_result"
    }
   ],
   "source": [
    "sel = \"div.BylineBar_first-container.ArticleHeader_byline-bar div.BylineBar_byline span\"\n",
    "soup.select(sel)"
   ]
  },
  {
   "cell_type": "code",
   "execution_count": 54,
   "metadata": {},
   "outputs": [
    {
     "data": {
      "text/plain": [
       "['Jacqueline Tempera, ', 'Jonathan Allen']"
      ]
     },
     "execution_count": 54,
     "metadata": {},
     "output_type": "execute_result"
    }
   ],
   "source": [
    "[a.text for a in soup.select(sel)]"
   ]
  },
  {
   "cell_type": "markdown",
   "metadata": {},
   "source": [
    "## Blueprint: Extracting Text of Links (Section)"
   ]
  },
  {
   "cell_type": "code",
   "execution_count": 55,
   "metadata": {},
   "outputs": [
    {
     "data": {
      "text/plain": [
       "'Health News'"
      ]
     },
     "execution_count": 55,
     "metadata": {},
     "output_type": "execute_result"
    }
   ],
   "source": [
    "soup.select_one(\"div.ArticleHeader_channel a\").text"
   ]
  },
  {
   "cell_type": "markdown",
   "metadata": {},
   "source": [
    "## Blueprint: Extracting Reading Time"
   ]
  },
  {
   "cell_type": "code",
   "execution_count": 56,
   "metadata": {},
   "outputs": [
    {
     "data": {
      "text/plain": [
       "'6 Min Read'"
      ]
     },
     "execution_count": 56,
     "metadata": {},
     "output_type": "execute_result"
    }
   ],
   "source": [
    "soup.select_one(\"p.BylineBar_reading-time\").text"
   ]
  },
  {
   "cell_type": "markdown",
   "metadata": {},
   "source": [
    "## Blueprint: Extracting Attributes (ID)"
   ]
  },
  {
   "cell_type": "code",
   "execution_count": 57,
   "metadata": {},
   "outputs": [
    {
     "data": {
      "text/plain": [
       "'USKBN1WG4KT'"
      ]
     },
     "execution_count": 57,
     "metadata": {},
     "output_type": "execute_result"
    }
   ],
   "source": [
    "soup.select_one(\"div.StandardArticle_inner-container\")[\"id\"]"
   ]
  },
  {
   "cell_type": "markdown",
   "metadata": {},
   "source": [
    "## Blueprint: Extracting Attribution"
   ]
  },
  {
   "cell_type": "code",
   "execution_count": 58,
   "metadata": {},
   "outputs": [
    {
     "data": {
      "text/plain": [
       "'Reporting Jacqueline Tempera in Brookline and Boston, Massachusetts, and Jonathan Allen in New York; Editing by Frank McGurty and Bill Berkrot'"
      ]
     },
     "execution_count": 58,
     "metadata": {},
     "output_type": "execute_result"
    }
   ],
   "source": [
    "soup.select_one(\"p.Attribution_content\").text"
   ]
  },
  {
   "cell_type": "markdown",
   "metadata": {},
   "source": [
    "## Blueprint: Extracting Timestamp"
   ]
  },
  {
   "cell_type": "code",
   "execution_count": 59,
   "metadata": {},
   "outputs": [
    {
     "name": "stdout",
     "output_type": "stream",
     "text": [
      "2019-10-01T19:23:16+0000\n"
     ]
    }
   ],
   "source": [
    "p_time = soup.find(\"meta\", {\"property\": \"og:article:published_time\"})[\"content\"]\n",
    "print(p_time)"
   ]
  },
  {
   "cell_type": "code",
   "execution_count": 60,
   "metadata": {},
   "outputs": [
    {
     "data": {
      "text/plain": [
       "datetime.datetime(2019, 10, 1, 19, 23, 16, tzinfo=tzutc())"
      ]
     },
     "execution_count": 60,
     "metadata": {},
     "output_type": "execute_result"
    }
   ],
   "source": [
    "from dateutil import parser\n",
    "parser.parse(p_time)"
   ]
  },
  {
   "cell_type": "markdown",
   "metadata": {},
   "source": [
    "## Blueprint: Spidering"
   ]
  },
  {
   "cell_type": "code",
   "execution_count": 61,
   "metadata": {},
   "outputs": [],
   "source": [
    "import requests\n",
    "from bs4 import BeautifulSoup\n",
    "import os.path\n",
    "from dateutil import parser\n",
    "\n",
    "REUT_URL = \"https://www.reuters.com\"\n",
    "ARCH_URL = REUT_URL + \"/news/archive/\"\n",
    "AUTHORS_ITEM = \"div.BylineBar_first-container.ArticleHeader_byline-bar div.BylineBar_byline span\"\n",
    "\n",
    "\n",
    "def download_archive_page(page):\n",
    "    filename = \"page-%06d.html\" % page\n",
    "    if not os.path.isfile(filename):\n",
    "        url = ARCH_URL + \"?view=page&page=%d&pageSize=10\" % page\n",
    "        r = requests.get(url)\n",
    "        with open(filename, \"w+\") as f:\n",
    "            f.write(r.text)\n",
    "            \n",
    "def parse_archive_page(page_file):\n",
    "    with open(page_file, \"r\") as f:\n",
    "        html = f.read()\n",
    "        \n",
    "    soup = BeautifulSoup(html, \"html.parser\")\n",
    "    hrefs = [REUT_URL + a[\"href\"]\n",
    "             for a in soup.select(\"article.story div.story-content a\")]\n",
    "    return hrefs\n",
    "\n",
    "def download_article(url):\n",
    "    # Check if it's there\n",
    "    filename = url.split(\"/\")[-1] + \".html\"\n",
    "    if not os.path.isfile(filename):\n",
    "        r = requests.get(url)\n",
    "        with open(filename, \"w+\") as f:\n",
    "            f.write(r.text)\n",
    "            \n",
    "def parse_article(article_file):\n",
    "    with open(article_file, \"r\") as f:\n",
    "        html = f.read()\n",
    "    r = {}\n",
    "    soup = BeautifulSoup(html, \"html.parser\")\n",
    "    r[\"id\"] = soup.select_one(\"div.StandardArticle_inner-container\")[\"id\"]\n",
    "    r[\"url\"] = soup.find(\"link\", {\"rel\": \"canonical\"})[\"href\"]\n",
    "    r[\"headline\"] = soup.h1.text\n",
    "    r[\"section\"] = soup.select_one(\"div.ArticleHeader_channel a\").text\n",
    "    r[\"text\"] = soup.select_one(\"div.StandardArticleBody_body\").text\n",
    "    r[\"authors\"] = [a.text for a in soup.select(AUTHORS_ITEM)]\n",
    "    r[\"time\"] = soup.find(\"meta\", {\"property\": \"og:article:published_time\"})[\"content\"]\n",
    "    return r"
   ]
  },
  {
   "cell_type": "markdown",
   "metadata": {},
   "source": [
    "Download 10 pages of archive"
   ]
  },
  {
   "cell_type": "code",
   "execution_count": 67,
   "metadata": {},
   "outputs": [],
   "source": [
    "for p in range(1, 10):\n",
    "    download_archive_page(p)"
   ]
  },
  {
   "cell_type": "markdown",
   "metadata": {},
   "source": [
    "Parse archive and add to article_urls"
   ]
  },
  {
   "cell_type": "code",
   "execution_count": 64,
   "metadata": {},
   "outputs": [],
   "source": [
    "import glob"
   ]
  },
  {
   "cell_type": "code",
   "execution_count": 65,
   "metadata": {},
   "outputs": [],
   "source": [
    "article_urls = []\n",
    "for page_file in glob.glob(\"page-*.html\"):\n",
    "    article_urls += parse_archive_page(page_file)"
   ]
  },
  {
   "cell_type": "code",
   "execution_count": 66,
   "metadata": {},
   "outputs": [
    {
     "name": "stdout",
     "output_type": "stream",
     "text": [
      "117\n"
     ]
    },
    {
     "data": {
      "text/plain": [
       "['https://www.reuters.com/article/us-nike-layoffs/nike-plans-to-cut-jobs-in-digital-push-idUSKBN23X2AV',\n",
       " 'https://www.reuters.com/article/us-health-coronavirus-usa-florida/florida-stops-bars-serving-alcohol-onsite-amid-coronavirus-surge-idUSKBN23X29E',\n",
       " 'https://www.reuters.com/article/us-wirecard-accounts-softbank/softbank-plans-to-sue-ey-over-wirecard-scandal-der-spiegel-idUSKBN23X1A8',\n",
       " 'https://www.reuters.com/article/us-asean-summit/amid-pandemic-se-asian-nations-warn-of-alarming-south-china-sea-incidents-idUSKBN23X1F8']"
      ]
     },
     "execution_count": 66,
     "metadata": {},
     "output_type": "execute_result"
    }
   ],
   "source": [
    "print(len(article_urls))\n",
    "article_urls[:4]"
   ]
  },
  {
   "cell_type": "markdown",
   "metadata": {},
   "source": [
    "Download Articles"
   ]
  },
  {
   "cell_type": "code",
   "execution_count": 68,
   "metadata": {},
   "outputs": [],
   "source": [
    "for url in article_urls:\n",
    "    download_article(url)"
   ]
  },
  {
   "cell_type": "markdown",
   "metadata": {},
   "source": [
    "Arrange in a DataFrame"
   ]
  },
  {
   "cell_type": "code",
   "execution_count": 69,
   "metadata": {},
   "outputs": [
    {
     "data": {
      "text/html": [
       "<div>\n",
       "<style scoped>\n",
       "    .dataframe tbody tr th:only-of-type {\n",
       "        vertical-align: middle;\n",
       "    }\n",
       "\n",
       "    .dataframe tbody tr th {\n",
       "        vertical-align: top;\n",
       "    }\n",
       "\n",
       "    .dataframe thead th {\n",
       "        text-align: right;\n",
       "    }\n",
       "</style>\n",
       "<table border=\"1\" class=\"dataframe\">\n",
       "  <thead>\n",
       "    <tr style=\"text-align: right;\">\n",
       "      <th></th>\n",
       "      <th>authors</th>\n",
       "      <th>headline</th>\n",
       "      <th>id</th>\n",
       "      <th>section</th>\n",
       "      <th>text</th>\n",
       "      <th>time</th>\n",
       "      <th>url</th>\n",
       "    </tr>\n",
       "  </thead>\n",
       "  <tbody>\n",
       "    <tr>\n",
       "      <th>0</th>\n",
       "      <td>[Brad Brooks]</td>\n",
       "      <td>New U.S. coronavirus cases hit 45,242 for bigg...</td>\n",
       "      <td>USKBN23X29G</td>\n",
       "      <td>Health News</td>\n",
       "      <td>LUBBOCK, Texas (Reuters) - The United States r...</td>\n",
       "      <td>2020-06-27 01:49:48+00:00</td>\n",
       "      <td>https://www.reuters.com/article/us-health-coro...</td>\n",
       "    </tr>\n",
       "    <tr>\n",
       "      <th>1</th>\n",
       "      <td>[Patricia Zengerle]</td>\n",
       "      <td>Senate advances $740 billion defense bill, sta...</td>\n",
       "      <td>USKBN23W38I</td>\n",
       "      <td>Politics</td>\n",
       "      <td>A man walks past the U.S. Capitol building in ...</td>\n",
       "      <td>2020-06-25 20:15:07+00:00</td>\n",
       "      <td>https://www.reuters.com/article/us-usa-defense...</td>\n",
       "    </tr>\n",
       "    <tr>\n",
       "      <th>2</th>\n",
       "      <td>[]</td>\n",
       "      <td>Democrats say U.S. withdrawal from Open Skies ...</td>\n",
       "      <td>USKBN23T373</td>\n",
       "      <td>Politics</td>\n",
       "      <td>FILE PHOTO - U.S. Senate Minority Leader Chuck...</td>\n",
       "      <td>2020-06-23 15:55:09+00:00</td>\n",
       "      <td>https://www.reuters.com/article/us-usa-russia-...</td>\n",
       "    </tr>\n",
       "    <tr>\n",
       "      <th>3</th>\n",
       "      <td>[]</td>\n",
       "      <td>New Jersey public schools to reopen 'in some c...</td>\n",
       "      <td>USKBN23X2HZ</td>\n",
       "      <td>U.S.</td>\n",
       "      <td>FILE PHOTO: New Jersey Governor Phil Murphy ta...</td>\n",
       "      <td>2020-06-26 17:54:51+00:00</td>\n",
       "      <td>https://www.reuters.com/article/us-health-corn...</td>\n",
       "    </tr>\n",
       "    <tr>\n",
       "      <th>4</th>\n",
       "      <td>[Simon Lewis]</td>\n",
       "      <td>University of Michigan pulls out of Trump-Bide...</td>\n",
       "      <td>USKBN23U25Y</td>\n",
       "      <td>Politics</td>\n",
       "      <td>FILE PHOTO: Democratic U.S. presidential candi...</td>\n",
       "      <td>2020-06-23 13:47:24+00:00</td>\n",
       "      <td>https://www.reuters.com/article/us-usa-electio...</td>\n",
       "    </tr>\n",
       "  </tbody>\n",
       "</table>\n",
       "</div>"
      ],
      "text/plain": [
       "               authors                                           headline  \\\n",
       "0        [Brad Brooks]  New U.S. coronavirus cases hit 45,242 for bigg...   \n",
       "1  [Patricia Zengerle]  Senate advances $740 billion defense bill, sta...   \n",
       "2                   []  Democrats say U.S. withdrawal from Open Skies ...   \n",
       "3                   []  New Jersey public schools to reopen 'in some c...   \n",
       "4        [Simon Lewis]  University of Michigan pulls out of Trump-Bide...   \n",
       "\n",
       "            id      section  \\\n",
       "0  USKBN23X29G  Health News   \n",
       "1  USKBN23W38I     Politics   \n",
       "2  USKBN23T373     Politics   \n",
       "3  USKBN23X2HZ         U.S.   \n",
       "4  USKBN23U25Y     Politics   \n",
       "\n",
       "                                                text  \\\n",
       "0  LUBBOCK, Texas (Reuters) - The United States r...   \n",
       "1  A man walks past the U.S. Capitol building in ...   \n",
       "2  FILE PHOTO - U.S. Senate Minority Leader Chuck...   \n",
       "3  FILE PHOTO: New Jersey Governor Phil Murphy ta...   \n",
       "4  FILE PHOTO: Democratic U.S. presidential candi...   \n",
       "\n",
       "                       time                                                url  \n",
       "0 2020-06-27 01:49:48+00:00  https://www.reuters.com/article/us-health-coro...  \n",
       "1 2020-06-25 20:15:07+00:00  https://www.reuters.com/article/us-usa-defense...  \n",
       "2 2020-06-23 15:55:09+00:00  https://www.reuters.com/article/us-usa-russia-...  \n",
       "3 2020-06-26 17:54:51+00:00  https://www.reuters.com/article/us-health-corn...  \n",
       "4 2020-06-23 13:47:24+00:00  https://www.reuters.com/article/us-usa-electio...  "
      ]
     },
     "execution_count": 69,
     "metadata": {},
     "output_type": "execute_result"
    }
   ],
   "source": [
    "import pandas as pd\n",
    "df = pd.DataFrame()\n",
    "for article_file in glob.glob(\"*-id???????????.html\"):\n",
    "    df = df.append(parse_article(article_file), ignore_index=True)\n",
    "    \n",
    "df[\"time\"] = pd.to_datetime(df[\"time\"])\n",
    "df.head()"
   ]
  },
  {
   "cell_type": "markdown",
   "metadata": {},
   "source": [
    "# Density-based Text Extraction"
   ]
  },
  {
   "cell_type": "code",
   "execution_count": 70,
   "metadata": {},
   "outputs": [
    {
     "data": {
      "text/plain": [
       "'Banned in Boston: Without vaping, medical marijuana patients must adapt - Reuters'"
      ]
     },
     "execution_count": 70,
     "metadata": {},
     "output_type": "execute_result"
    }
   ],
   "source": [
    "from readability import Document\n",
    "\n",
    "doc = Document(html)\n",
    "doc.title()"
   ]
  },
  {
   "cell_type": "code",
   "execution_count": 71,
   "metadata": {},
   "outputs": [
    {
     "data": {
      "text/plain": [
       "'Banned in Boston: Without vaping, medical marijuana patients must adapt'"
      ]
     },
     "execution_count": 71,
     "metadata": {},
     "output_type": "execute_result"
    }
   ],
   "source": [
    "doc.short_title()"
   ]
  },
  {
   "cell_type": "code",
   "execution_count": 72,
   "metadata": {
    "scrolled": true
   },
   "outputs": [
    {
     "data": {
      "text/plain": [
       "'<html><body><div><div class=\"StandardArticleBody_body\"><p>BOSTON (Reuters) - In the first few days of the four-month ban on all vaping products in Massachusetts, Laura Lee Medeiros, a medical marijuana patient, began to worry.\\xa0 </p><div class=\"PrimaryAsset_container\"><div class=\"Image_container\" tabindex=\"-1\"><figure class=\"Image_zoom\"/><figcaption><p class=\"Image_caption\"><span>FILE PHOTO: An employee puts down an eighth of an ounce marijuana after letting a customer smell it outside the Magnolia cannabis lounge in Oakland, California, U.S. April 20, 2018. REUTERS/Elijah Nouvelage</span></p></figcaption></div></div><p>The 32-year-old massage therapist has a diagnosis of post-traumatic stress disorder (PTSD) from childhood trauma. To temper her unpredictable panic attacks, she relied on a vape pen and cartridges filled with the marijuana derivatives THC and CBD from state dispensaries. </p><p>There are other ways to get the desired effect from  marijuana, and patients have filled dispensaries across the state in recent days to ask about edible or smokeable forms. But Medeiros has come to depend on her battery-powered pen, and wondered how she would cope without her usual supply of cartridges.  </p><p>“In the midst of something where I’m on the floor, on the verge of passing out, my pen has been very helpful for me to grab,” she said. She carries her vape pen in her purse in case of an emergency, but has only one cartridge left. </p><p>Massachusetts imposed its ban on all vaping products, including both nicotine- and cannabis-based products, in response to mounting concern about the potential serious health risks. Governor Charlie Baker, a Republican, said the ban would last at least four months while new legislation and regulation is explored.  </p><p>More than 800 cases of a vaping-related lung disease and 12 deaths across 10 U.S. states have so far been reported by the U.S. Centers for Disease Control and Prevention. Those numbers are expected to climb.  </p><p>More than three quarters of those with the respiratory illness reported vaping THC, the main psychoactive ingredient of marijuana. Many of them used small e-cigarette cartridges, or “carts,” bought on the black market, where the risk of adulterated products is high. </p><p>Marijuana remains illegal under federal law, but a growing number of states allow it for medical or recreational use. Massachusetts is one of 10 U.S. states that allows both uses, along with the District of Columbia. </p><p>Some marijuana users had long eschewed vaping even before the ban, often on the advice of doctors who saw the cocktail of compounds being inhaled into lungs as risky. </p><p>“I have advised against the vape carts for my patients for a long time exactly out of suspicion of basically what just happened,” said Dr. Ryan Zaklin, a doctor in Salem, Massachusetts. “Who the hell knows what they’re putting in them?” </p><p>Some patients like vaping because it is more discreet than traditional burning of marijuana “flower.” The devices are small, produce a relatively odorless “vapor” and is fast-acting: a handheld device rapidly heats liquid compounds into an aerosol that can be inhaled into the lungs.  </p><p>Many of those patients are now asking their doctors or dispensaries about edible forms of marijuana, liquid tinctures that can be dropped under the tongue or old-fashioned flower buds and pre-rolled joints for smoking.  </p><p>For Medeiros, who lives in the small coastal city of Peabody, other methods are a poor substitute. She found that edibles take time to take effect, typically about an hour. Tinctures seemed to her similarly slow-acting. And rolling a joint while her vision is closing in and she is hyperventilating from a panic attack is nearly impossible, she said. </p><h3>UNEXPECTED BLESSING </h3><p>Medeiros wishes medical marijuana patients had been given time to stock up on the products they use before the ban went into immediate effect.  </p><p>Pressed on such concerns, the governor has not been swayed to change his decision over what he said was a public health emergency. </p><p>“There are many alternative uses available to people who currently have prescriptions for medical marijuana and they should pursue those,” Baker told reporters last week, according to local media. </p><p>But some public health experts have warned the ban may drive more people toward riskier black-market, totally unregulated vape products.      </p><p>At the New England Treatment Access (NETA) dispensary in Brookline, near Boston, which has become one of the biggest suppliers of medical marijuana since the drug became legalized in the state in 2012, several patients said they view the ban as an unexpected blessing. </p><p>Denise Sullivan, 62, uses medical marijuana to treat symptoms of her leukemia. She had vaped for more than a year, but stopped after she heard about the ban. During the period she vaped, she contracted pneumonia five times, she said, and now believes that might have been vape related.\\xa0 </p><p>“I can tell when I vape I am more congested not in my lungs but in my sinuses,” she said. She plans to use edibles, which she said kick in with enough time to treat her pain. </p><p>Kate LeDoux, 49, had a similar experience. She is a runner and used medical marijuana to help recovery from recent foot surgery.  LeDoux stopped vaping a few weeks ago after seeing the news about the lung disease, turning instead to edibles and smoking. </p><p>Almost immediately, her “weird cough” cleared up and her running times improved, she said. “Now I know it was 100 percent the vaping.” </p><p>(This story has been refiled to to correct date). </p><div class=\"Attribution_container\"><div class=\"Attribution_attribution\"><p class=\"Attribution_content\">Reporting Jacqueline Tempera in Brookline and Boston, Massachusetts, and Jonathan Allen in New York; Editing by Frank McGurty and Bill Berkrot</p></div></div></div></div></body></html>'"
      ]
     },
     "execution_count": 72,
     "metadata": {},
     "output_type": "execute_result"
    }
   ],
   "source": [
    "doc.summary()"
   ]
  },
  {
   "cell_type": "code",
   "execution_count": 73,
   "metadata": {},
   "outputs": [
    {
     "data": {
      "text/plain": [
       "'BOSTON (Reuters) - In the first few days of the four-month ban on all vaping products in Massachusetts, Laura Lee Medeiros, a medical marijuana patient, began to worry.\\xa0 FILE PHOTO: An employee puts down an eighth of an ounce marijuana after letting a customer smell it outside the Magnolia cannabis lounge in Oakland, California, U.S. April 20, 2018. REUTERS/Elijah NouvelageThe 32-year-old massage therapist has a diagnosis of post-traumatic stress disorder (PTSD) from childhood trauma. To temper her unpredictable panic attacks, she relied on a vape pen and cartridges filled with the marijuana derivatives THC and CBD from state dispensaries. There are other ways to get the desired effect from  marijuana, and patients have filled dispensaries across the state in recent days to ask about edible or smokeable forms. But Medeiros has come to depend on her battery-powered pen, and wondered how she would cope without her usual supply of cartridges.  “In the midst of something where I’m on the floor, on the verge of passing out, my pen has been very helpful for me to grab,” she said. She carries her vape pen in her purse in case of an emergency, but has only one cartridge left. Massachusetts imposed its ban on all vaping products, including both nicotine- and cannabis-based products, in response to mounting concern about the potential serious health risks. Governor Charlie Baker, a Republican, said the ban would last at least four months while new legislation and regulation is explored.  More than 800 cases of a vaping-related lung disease and 12 deaths across 10 U.S. states have so far been reported by the U.S. Centers for Disease Control and Prevention. Those numbers are expected to climb.  More than three quarters of those with the respiratory illness reported vaping THC, the main psychoactive ingredient of marijuana. Many of them used small e-cigarette cartridges, or “carts,” bought on the black market, where the risk of adulterated products is high. Marijuana remains illegal under federal law, but a growing number of states allow it for medical or recreational use. Massachusetts is one of 10 U.S. states that allows both uses, along with the District of Columbia. Some marijuana users had long eschewed vaping even before the ban, often on the advice of doctors who saw the cocktail of compounds being inhaled into lungs as risky. “I have advised against the vape carts for my patients for a long time exactly out of suspicion of basically what just happened,” said Dr. Ryan Zaklin, a doctor in Salem, Massachusetts. “Who the hell knows what they’re putting in them?” Some patients like vaping because it is more discreet than traditional burning of marijuana “flower.” The devices are small, produce a relatively odorless “vapor” and is fast-acting: a handheld device rapidly heats liquid compounds into an aerosol that can be inhaled into the lungs.  Many of those patients are now asking their doctors or dispensaries about edible forms of marijuana, liquid tinctures that can be dropped under the tongue or old-fashioned flower buds and pre-rolled joints for smoking.  For Medeiros, who lives in the small coastal city of Peabody, other methods are a poor substitute. She found that edibles take time to take effect, typically about an hour. Tinctures seemed to her similarly slow-acting. And rolling a joint while her vision is closing in and she is hyperventilating from a panic attack is nearly impossible, she said. UNEXPECTED BLESSING Medeiros wishes medical marijuana patients had been given time to stock up on the products they use before the ban went into immediate effect.  Pressed on such concerns, the governor has not been swayed to change his decision over what he said was a public health emergency. “There are many alternative uses available to people who currently have prescriptions for medical marijuana and they should pursue those,” Baker told reporters last week, according to local media. But some public health experts have warned the ban may drive more people toward riskier black-market, totally unregulated vape products.      At the New England Treatment Access (NETA) dispensary in Brookline, near Boston, which has become one of the biggest suppliers of medical marijuana since the drug became legalized in the state in 2012, several patients said they view the ban as an unexpected blessing. Denise Sullivan, 62, uses medical marijuana to treat symptoms of her leukemia. She had vaped for more than a year, but stopped after she heard about the ban. During the period she vaped, she contracted pneumonia five times, she said, and now believes that might have been vape related.\\xa0 “I can tell when I vape I am more congested not in my lungs but in my sinuses,” she said. She plans to use edibles, which she said kick in with enough time to treat her pain. Kate LeDoux, 49, had a similar experience. She is a runner and used medical marijuana to help recovery from recent foot surgery.  LeDoux stopped vaping a few weeks ago after seeing the news about the lung disease, turning instead to edibles and smoking. Almost immediately, her “weird cough” cleared up and her running times improved, she said. “Now I know it was 100 percent the vaping.” (This story has been refiled to to correct date). Reporting Jacqueline Tempera in Brookline and Boston, Massachusetts, and Jonathan Allen in New York; Editing by Frank McGurty and Bill Berkrot'"
      ]
     },
     "execution_count": 73,
     "metadata": {},
     "output_type": "execute_result"
    }
   ],
   "source": [
    "density_soup = BeautifulSoup(doc.summary(), \"html.parser\")\n",
    "density_soup.body.text"
   ]
  },
  {
   "cell_type": "markdown",
   "metadata": {},
   "source": [
    "# All-in-one Approach\n",
    "\n",
    "(Using Scrapy)"
   ]
  },
  {
   "cell_type": "code",
   "execution_count": 75,
   "metadata": {},
   "outputs": [],
   "source": [
    "import scrapy\n",
    "import logging\n",
    "\n",
    "class ReutersArchiveSpider(scrapy.Spider):\n",
    "    name = \"reuters-archive\"\n",
    "    \n",
    "    custom_settings = {\n",
    "        \"LOG_LEVEL\": logging.WARNING,\n",
    "        \"FEED_FORMAT\": \"json\",\n",
    "        \"FEED_URI\": \"reuters-archive.json\"\n",
    "    }\n",
    "    \n",
    "    start_urls = [ARCH_URL]\n",
    "    \n",
    "    def parse(self, response):\n",
    "        for article in response.css(\"article.story div.story-content a\"):\n",
    "            yield response.follow(article.css(\"a::attr(href)\").extract_first(),\n",
    "                                  self.parse_article)\n",
    "        next_page_url = response.css(\"a.control-nav-next::attr(href)\").extract_first()\n",
    "        if (next_page_url is not None) & (\"page=2\" not in next_page_url):\n",
    "            yield response.follow(next_page_url, self.parse)\n",
    "                \n",
    "    def parse_article(self, response):\n",
    "        yield {\n",
    "            \"title\": response.css(\"h1::text\").extract_first().strip(),\n",
    "            \"section\": response.css(\"div.ArticleHeader_channel a::text\").extract_first().strip(),\n",
    "            \"text\": \"\\n\".join(response.css(\"div.StandardArticleBody_body p::text\").extract())\n",
    "        }"
   ]
  },
  {
   "cell_type": "code",
   "execution_count": null,
   "metadata": {},
   "outputs": [],
   "source": [
    "if False:  # We're not actually going to do this\n",
    "    from scrapy.crawler import CrawlerProcess\n",
    "    process = CrawlerProcess()\n",
    "\n",
    "    process.crawl(ReutersArchiveSpider)\n",
    "    process.start()"
   ]
  }
 ],
 "metadata": {
  "kernelspec": {
   "display_name": "Python 3",
   "language": "python",
   "name": "python3"
  },
  "language_info": {
   "codemirror_mode": {
    "name": "ipython",
    "version": 3
   },
   "file_extension": ".py",
   "mimetype": "text/x-python",
   "name": "python",
   "nbconvert_exporter": "python",
   "pygments_lexer": "ipython3",
   "version": "3.6.10"
  }
 },
 "nbformat": 4,
 "nbformat_minor": 4
}
